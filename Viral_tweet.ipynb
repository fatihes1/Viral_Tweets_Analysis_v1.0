{
 "cells": [
  {
   "cell_type": "markdown",
   "metadata": {},
   "source": [
    "# Viral Tweets"
   ]
  },
  {
   "cell_type": "markdown",
   "metadata": {},
   "source": [
    "In this project, ı used the K-Nearest Neighbor algoritm to predict whether a tweet will go viral. First consider the probelem ı'm trying to solve. Which features are most closely linked to its popularity? Maybe the number of hashtags or the number of links in the tweet strongly influences its popularity.Maybe its virality is dependent on how many followers the person has. Maybe it's something more subtle like the specific language used in the tweets."
   ]
  },
  {
   "cell_type": "markdown",
   "metadata": {},
   "source": [
    "## Explore Data"
   ]
  },
  {
   "cell_type": "markdown",
   "metadata": {},
   "source": [
    "Let's look:\n",
    "* The total number of tweets in the dataset.\n",
    "* The columns, or features, of the dataset.\n",
    "* The text of the first tweet in the dataset.\n",
    "\n",
    "Some of these features are dictionaries. For example, the feature `\"user\"` is a dictionary. We might want to use some of the information found in these sub-dictionaries."
   ]
  },
  {
   "cell_type": "code",
   "execution_count": 1,
   "metadata": {},
   "outputs": [],
   "source": [
    "import pandas as pd\n",
    "all_tweets = pd.read_json(\"random_tweets.json\", lines=True)"
   ]
  },
  {
   "cell_type": "code",
   "execution_count": 3,
   "metadata": {},
   "outputs": [
    {
     "name": "stdout",
     "output_type": "stream",
     "text": [
      "**Length of data\n",
      "11099\n",
      "**Columns of Dataset\n",
      "Index(['created_at', 'id', 'id_str', 'text', 'truncated', 'entities',\n",
      "       'metadata', 'source', 'in_reply_to_status_id',\n",
      "       'in_reply_to_status_id_str', 'in_reply_to_user_id',\n",
      "       'in_reply_to_user_id_str', 'in_reply_to_screen_name', 'user', 'geo',\n",
      "       'coordinates', 'place', 'contributors', 'retweeted_status',\n",
      "       'is_quote_status', 'retweet_count', 'favorite_count', 'favorited',\n",
      "       'retweeted', 'lang', 'possibly_sensitive', 'quoted_status_id',\n",
      "       'quoted_status_id_str', 'extended_entities', 'quoted_status',\n",
      "       'withheld_in_countries'],\n",
      "      dtype='object')\n",
      "**Example tweet\n",
      "RT @KWWLStormTrack7: We are more than a month into summer but the days are getting shorter. The sunrise is about 25 minutes later on July 3…\n",
      "**Example tweet location\n",
      "Waterloo, Iowa\n"
     ]
    }
   ],
   "source": [
    "print(\"**Length of data\")\n",
    "print(len(all_tweets))\n",
    "print(\"**Columns of Dataset\")\n",
    "print(all_tweets.columns)\n",
    "print(\"**Example tweet\")\n",
    "print(all_tweets.loc[0]['text'])\n",
    "print(\"**Example tweet location\")\n",
    "print(all_tweets.loc[0]['user']['location'])"
   ]
  },
  {
   "cell_type": "markdown",
   "metadata": {},
   "source": [
    "## Defining Viral Tweets"
   ]
  },
  {
   "cell_type": "markdown",
   "metadata": {},
   "source": [
    "A K-Nearest Neighbor classifier is a supervised machine learning algorithm, and as a result, we need to have a dataset with tagged labels. For this specific example, we need a dataset where every tweet is marked as viral or not viral. Unfortunately, this isn't a feature of our dataset &mdash; we'll need to make it ourselves.\n",
    "\n",
    "So how do we define a viral tweet? A good place to start is to look at the number of retweets the tweet has. This can be found using the feature `\"retweet_count\"`. Let's say we wanted to create a column called `is_viral` that is a `1` if the tweet had more than `\"median of reetweet count\"`  retweets and `0` otherwise. "
   ]
  },
  {
   "cell_type": "code",
   "execution_count": 4,
   "metadata": {},
   "outputs": [
    {
     "name": "stdout",
     "output_type": "stream",
     "text": [
      "Median of our dataset's reetweets\n",
      "13.0\n",
      "1    5591\n",
      "0    5508\n",
      "Name: is_viral, dtype: int64\n"
     ]
    }
   ],
   "source": [
    "import numpy as np\n",
    "\n",
    "median_retweets = all_tweets['retweet_count'].median()\n",
    "print(\"Median of our dataset's reetweets\")\n",
    "print(median_retweets)\n",
    "all_tweets['is_viral'] = np.where(all_tweets['retweet_count'] >= median_retweets, 1, 0)\n",
    "print(all_tweets['is_viral'].value_counts())"
   ]
  },
  {
   "cell_type": "markdown",
   "metadata": {},
   "source": [
    "## Making Features"
   ]
  },
  {
   "cell_type": "markdown",
   "metadata": {},
   "source": [
    "Now that we've created a label for every tweet in our dataset, we can begin thinking about which features might determine whether a tweet is viral. We can create new columns in our dataset to represent these features. For example, let's say we think the length of a tweet might be a valuable feature. And also we can use features that `followers_count` and `friends_count`."
   ]
  },
  {
   "cell_type": "code",
   "execution_count": 5,
   "metadata": {},
   "outputs": [],
   "source": [
    "all_tweets['tweet_length'] = all_tweets.apply(lambda tweet: len(tweet['text']), axis=1)\n",
    "all_tweets['followers_count'] = all_tweets.apply(lambda tweet: tweet['user']['followers_count'], axis=1)\n",
    "all_tweets['friends_count'] = all_tweets.apply(lambda tweet: tweet['user']['friends_count'], axis=1)"
   ]
  },
  {
   "cell_type": "markdown",
   "metadata": {},
   "source": [
    " A variable named labels  equal to the 'is_viral' column of all_tweets.\n",
    " \n",
    " A variable named data equal to columns which `tweet_length`, `followers_count`, and `friends_count`.\n",
    " \n",
    " The scale function will normalize the data so all of the features will vary within the same range."
   ]
  },
  {
   "cell_type": "code",
   "execution_count": 7,
   "metadata": {},
   "outputs": [],
   "source": [
    "from sklearn.preprocessing import scale\n",
    "\n",
    "labels = all_tweets['is_viral']\n",
    "data = all_tweets[['tweet_length','followers_count','friends_count']]\n",
    "scaled_data = scale(data, axis=0)\n"
   ]
  },
  {
   "cell_type": "markdown",
   "metadata": {},
   "source": [
    "## Creating the Training Set and Test Set"
   ]
  },
  {
   "cell_type": "markdown",
   "metadata": {},
   "source": [
    "To evaluate the effectiveness of our classifier, we now split scaled_data and labels into a training set and test set using scikit-learn's train_test_split function. This function takes two required parameters: It takes the data, followed by the labels. Set the optional parameter test_size to be 0.2.\n",
    "\n",
    "Don't fotget, this function returns 4 items in this order:\n",
    "\n",
    "1. The training data\n",
    "2. The testing data\n",
    "3. The training labels\n",
    "4. The testing labels\n",
    "\n",
    "Store the results in variables named `train_data`, `test_data`, `train_labels`, and `test_labels`."
   ]
  },
  {
   "cell_type": "code",
   "execution_count": 10,
   "metadata": {},
   "outputs": [],
   "source": [
    "from sklearn.model_selection import train_test_split\n",
    "\n",
    "train_data, test_data, train_labels, test_labels = train_test_split(scaled_data, labels, test_size = 0.2, random_state = 1)"
   ]
  },
  {
   "cell_type": "markdown",
   "metadata": {},
   "source": [
    "## Using the Classifier"
   ]
  },
  {
   "cell_type": "markdown",
   "metadata": {},
   "source": [
    "Use K-Nearest classifier. For begin k parameter equal to 5. After that, train our model by calling `fit()` method with  `train_data` and `train_labels` as parameters.\n",
    "\n",
    "Next, ı want to know my model's score. "
   ]
  },
  {
   "cell_type": "code",
   "execution_count": 11,
   "metadata": {},
   "outputs": [
    {
     "name": "stdout",
     "output_type": "stream",
     "text": [
      "0.5905405405405405\n"
     ]
    }
   ],
   "source": [
    "from sklearn.neighbors import KNeighborsClassifier\n",
    "\n",
    "classifier = KNeighborsClassifier(n_neighbors = 5)\n",
    "classifier.fit(train_data, train_labels)\n",
    "print(classifier.score(test_data, test_labels))"
   ]
  },
  {
   "cell_type": "markdown",
   "metadata": {},
   "source": [
    "## Choosing K"
   ]
  },
  {
   "cell_type": "markdown",
   "metadata": {},
   "source": [
    "We've tested our classifier with k = 5, but maybe there's a k that will work better. Let's test many different values for k and graph the results. Let's find best value of k."
   ]
  },
  {
   "cell_type": "code",
   "execution_count": 12,
   "metadata": {},
   "outputs": [
    {
     "data": {
      "image/png": "[encoded data removed]",
      "text/plain": [
       "<Figure size 432x288 with 1 Axes>"
      ]
     },
     "metadata": {
      "needs_background": "light"
     },
     "output_type": "display_data"
    }
   ],
   "source": [
    "import matplotlib.pyplot as plt\n",
    "\n",
    "scores = []\n",
    "for k in range(1, 200):\n",
    "    classifier = KNeighborsClassifier(n_neighbors = k)\n",
    "    classifier.fit(train_data, train_labels)\n",
    "    scores.append(classifier.score(test_data, test_labels))\n",
    "    \n",
    "plt.plot(range(1,200), scores)\n",
    "plt.show()"
   ]
  },
  {
   "cell_type": "code",
   "execution_count": 13,
   "metadata": {},
   "outputs": [
    {
     "name": "stdout",
     "output_type": "stream",
     "text": [
      "26\n"
     ]
    }
   ],
   "source": [
    "print(scores.index(max(scores)))"
   ]
  },
  {
   "cell_type": "markdown",
   "metadata": {},
   "source": [
    "## Tuning"
   ]
  },
  {
   "cell_type": "code",
   "execution_count": 15,
   "metadata": {},
   "outputs": [
    {
     "name": "stdout",
     "output_type": "stream",
     "text": [
      "0.6198198198198198\n"
     ]
    }
   ],
   "source": [
    "classifier_tuned = KNeighborsClassifier(n_neighbors = scores.index(max(scores)))\n",
    "classifier_tuned.fit(train_data, train_labels)\n",
    "print(classifier_tuned.score(test_data, test_labels))"
   ]
  },
  {
   "cell_type": "code",
   "execution_count": null,
   "metadata": {},
   "outputs": [],
   "source": []
  }
 ],
 "metadata": {
  "kernelspec": {
   "display_name": "Python 3",
   "language": "python",
   "name": "python3"
  },
  "language_info": {
   "codemirror_mode": {
    "name": "ipython",
    "version": 3
   },
   "file_extension": ".py",
   "mimetype": "text/x-python",
   "name": "python",
   "nbconvert_exporter": "python",
   "pygments_lexer": "ipython3",
   "version": "3.8.3"
  }
 },
 "nbformat": 4,
 "nbformat_minor": 4
}
